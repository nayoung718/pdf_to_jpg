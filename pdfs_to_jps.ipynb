{
  "nbformat": 4,
  "nbformat_minor": 0,
  "metadata": {
    "colab": {
      "provenance": [],
      "authorship_tag": "ABX9TyNSYQUWRpVn8tRS7vdDBbJY",
      "include_colab_link": true
    },
    "kernelspec": {
      "name": "python3",
      "display_name": "Python 3"
    },
    "language_info": {
      "name": "python"
    }
  },
  "cells": [
    {
      "cell_type": "markdown",
      "metadata": {
        "id": "view-in-github",
        "colab_type": "text"
      },
      "source": [
        "<a href=\"https://colab.research.google.com/github/nayoung718/pdf_to_jpg/blob/main/pdfs_to_jps.ipynb\" target=\"_parent\"><img src=\"https://colab.research.google.com/assets/colab-badge.svg\" alt=\"Open In Colab\"/></a>"
      ]
    },
    {
      "cell_type": "code",
      "execution_count": null,
      "metadata": {
        "id": "kV7dqIx_IYQm"
      },
      "outputs": [],
      "source": [
        "!pip install pdf2image\n",
        "!apt-get install poppler-utils"
      ]
    },
    {
      "cell_type": "code",
      "source": [
        "filename=['/change/test_answer_3.pdf','/change/tonpu.pdf']"
      ],
      "metadata": {
        "id": "bOxWeoVxIdrC"
      },
      "execution_count": null,
      "outputs": []
    },
    {
      "cell_type": "code",
      "source": [
        "from pdf2image import convert_from_path, convert_from_bytes\n",
        "import os, glob\n",
        "current_path = os.getcwd()\n",
        "pdf_path=os.path.dirname(filename[0])\n",
        "NAME=os.path.basename(filename[0])\n",
        "os.mkdir(NAME)\n",
        "PATH=current_path+\"/\"+NAME"
      ],
      "metadata": {
        "id": "tp0NJN5fIe6D"
      },
      "execution_count": null,
      "outputs": []
    },
    {
      "cell_type": "code",
      "source": [
        "n=len(filename)\n",
        "file=[0 for i in range(n)]\n",
        "for i in range(n):\n",
        "  file[i] = filename[i]\n",
        "\n",
        "  if os.access(file[i], os.F_OK) == True:\n",
        "    imgs = convert_from_path(file[i], fmt='jpg', output_folder=PATH)"
      ],
      "metadata": {
        "id": "sjP135QNIgGz"
      },
      "execution_count": null,
      "outputs": []
    }
  ]
}